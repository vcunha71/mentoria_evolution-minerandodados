{
  "nbformat": 4,
  "nbformat_minor": 0,
  "metadata": {
    "colab": {
      "name": "me-linguagem-python-exercicios-02.ipynb",
      "version": "0.3.2",
      "provenance": [],
      "include_colab_link": true
    },
    "kernelspec": {
      "display_name": "Python 3",
      "language": "python",
      "name": "python3"
    }
  },
  "cells": [
    {
      "cell_type": "markdown",
      "metadata": {
        "id": "view-in-github",
        "colab_type": "text"
      },
      "source": [
        "<a href=\"https://colab.research.google.com/github/vcunha71/mentoria_evolution-minerandodados/blob/master/me_linguagem_python_exercicios_02.ipynb\" target=\"_parent\"><img src=\"https://colab.research.google.com/assets/colab-badge.svg\" alt=\"Open In Colab\"/></a>"
      ]
    },
    {
      "metadata": {
        "id": "mmYsPTRmRsvF",
        "colab_type": "text"
      },
      "cell_type": "markdown",
      "source": [
        "# Mentoria Evolution - Exercícios Python "
      ]
    },
    {
      "metadata": {
        "id": "QgLNMtU8RsvH",
        "colab_type": "text"
      },
      "cell_type": "markdown",
      "source": [
        "https://minerandodados.com.br"
      ]
    },
    {
      "metadata": {
        "id": "ON4BqnXkRsvJ",
        "colab_type": "text"
      },
      "cell_type": "markdown",
      "source": [
        "* Para executar uma célula digite **Control + enter** ou clique em **Run**.\n",
        "* As celulas para rodar script Python devem ser do tipo code.\n",
        "* Crie células abaixo das celulas que foram escrito o enunciado das questões com as respostas."
      ]
    },
    {
      "metadata": {
        "id": "ERN-BwqGRsvK",
        "colab_type": "text"
      },
      "cell_type": "markdown",
      "source": [
        "**Obs**: Caso de dúvidas, volte na aula anterior de Python. Não desista :)"
      ]
    },
    {
      "metadata": {
        "id": "36hmA8T5RsvL",
        "colab_type": "text"
      },
      "cell_type": "markdown",
      "source": [
        "## Exercícios de Fixação"
      ]
    },
    {
      "metadata": {
        "id": "RkwBfWRTRsvM",
        "colab_type": "text"
      },
      "cell_type": "markdown",
      "source": [
        "1) Responda: É possível ter elementos de tipos difentes em uma mesma lista? Exemplo: strings e números?"
      ]
    },
    {
      "metadata": {
        "id": "1W44tZeBRsvN",
        "colab_type": "text"
      },
      "cell_type": "markdown",
      "source": [
        "Sim, é possivel ter tipos diferentes em uma lista."
      ]
    },
    {
      "metadata": {
        "id": "6r08-COfRsvN",
        "colab_type": "text"
      },
      "cell_type": "markdown",
      "source": [
        "2) Trabalhando com Listas, faça:\n",
        "- a) Cria uma lista de valores inteiros com o **nome** e **idades**.\n",
        "- b) Imprima apenas segundo elemento da lista.\n",
        "- c) Imprima a quantidade de elementos da lista.\n",
        "- d) Substitua o valor do segundo elemento da lista e imprima o resultado.\n",
        "- e) Imprima apenas os valores do segundo elemento em diante.\n",
        "- f) Remova qualquer elemento da lista e imprima o resultado.\n",
        "- g) Defina uma lista chamada salarios com os valores : **900,1200,1500,800,12587,10000**.\n",
        "- h) Verifique se contém o valor 10000 na lista de salarios.\n",
        "- i) Imprima o menor e maior valor da lista.\n",
        "- j) Adicione o valor 7000 a lista.\n",
        "- l) Extenda a lista com dois novos elementos utilizando apenas um método.\n",
        "- m) Imprima o índice do elemento de valor 800 da lista de salarios.\n",
        "- n) Faça uma ordenação dos valores da lista de salarios em ordem crescente e decrescente."
      ]
    },
    {
      "metadata": {
        "id": "oFjQYnVDRsvO",
        "colab_type": "code",
        "colab": {}
      },
      "cell_type": "code",
      "source": [
        "#a) Cria uma lista de valores inteiros com o nome e idades.\n",
        "idade = [5,6,10,25,99,26,11,58]"
      ],
      "execution_count": 0,
      "outputs": []
    },
    {
      "metadata": {
        "id": "RmM9Fu22RsvQ",
        "colab_type": "code",
        "colab": {},
        "outputId": "6bc4c472-8346-4849-ea44-a29634055bac"
      },
      "cell_type": "code",
      "source": [
        "#b) Imprima apenas segundo elemento da lista.\n",
        "idade[1]"
      ],
      "execution_count": 0,
      "outputs": [
        {
          "output_type": "execute_result",
          "data": {
            "text/plain": [
              "6"
            ]
          },
          "metadata": {
            "tags": []
          },
          "execution_count": 31
        }
      ]
    },
    {
      "metadata": {
        "id": "u8Hkdbv_RsvX",
        "colab_type": "code",
        "colab": {},
        "outputId": "e8b3c3b7-3fd5-4e50-b9bf-3bbc3e1e4d87"
      },
      "cell_type": "code",
      "source": [
        "#c) Imprima a quantidade de elementos da lista.\n",
        "len(idade)"
      ],
      "execution_count": 0,
      "outputs": [
        {
          "output_type": "execute_result",
          "data": {
            "text/plain": [
              "8"
            ]
          },
          "metadata": {
            "tags": []
          },
          "execution_count": 32
        }
      ]
    },
    {
      "metadata": {
        "id": "dY1icxqnRsvZ",
        "colab_type": "code",
        "colab": {},
        "outputId": "16c4d2c8-d3c9-4ea0-db21-69de152c63d8"
      },
      "cell_type": "code",
      "source": [
        "#d) Substitua o valor do segundo elemento da lista e imprima o resultado.\n",
        "idade[1] = 55\n",
        "print(idade)"
      ],
      "execution_count": 0,
      "outputs": [
        {
          "output_type": "stream",
          "text": [
            "[5, 55, 25, 99, 26, 11, 58]\n"
          ],
          "name": "stdout"
        }
      ]
    },
    {
      "metadata": {
        "id": "npgOnBlKRsvc",
        "colab_type": "code",
        "colab": {},
        "outputId": "f152a27f-b921-46c0-a825-103a3474bfa7"
      },
      "cell_type": "code",
      "source": [
        "#e) Imprima apenas os valores do segundo elemento em diante\n",
        "idade[1:]"
      ],
      "execution_count": 0,
      "outputs": [
        {
          "output_type": "execute_result",
          "data": {
            "text/plain": [
              "[55, 25, 99, 26, 11, 58]"
            ]
          },
          "metadata": {
            "tags": []
          },
          "execution_count": 39
        }
      ]
    },
    {
      "metadata": {
        "id": "Z1HAHQExRsve",
        "colab_type": "code",
        "colab": {},
        "outputId": "3b4f7ba3-9cec-4825-f03d-9dd56b282fa9"
      },
      "cell_type": "code",
      "source": [
        "#f) Remova qualquer elemento da lista e imprima o resultado.\n",
        "idade.remove(55)\n",
        "idade"
      ],
      "execution_count": 0,
      "outputs": [
        {
          "output_type": "execute_result",
          "data": {
            "text/plain": [
              "[5, 25, 99, 26, 11, 58]"
            ]
          },
          "metadata": {
            "tags": []
          },
          "execution_count": 40
        }
      ]
    },
    {
      "metadata": {
        "id": "5APGSTGFRsvh",
        "colab_type": "code",
        "colab": {}
      },
      "cell_type": "code",
      "source": [
        "#g) Defina uma lista chamada salarios com os valores : 900,1200,1500,800,12587,10000.\n",
        "salarios = [900,1200,1500,800,12587,10000]"
      ],
      "execution_count": 0,
      "outputs": []
    },
    {
      "metadata": {
        "id": "WcILqIXXRsvj",
        "colab_type": "code",
        "colab": {},
        "outputId": "fb661132-f052-46db-84ca-b68d24010447"
      },
      "cell_type": "code",
      "source": [
        "#h) Verifique se contém o valor 10000 na lista de salarios.\n",
        "10000 in salarios"
      ],
      "execution_count": 0,
      "outputs": [
        {
          "output_type": "execute_result",
          "data": {
            "text/plain": [
              "True"
            ]
          },
          "metadata": {
            "tags": []
          },
          "execution_count": 43
        }
      ]
    },
    {
      "metadata": {
        "id": "Hm6OWQYmRsvl",
        "colab_type": "code",
        "colab": {},
        "outputId": "a707bf5f-18b4-4aa4-b340-9c3baea02fbf"
      },
      "cell_type": "code",
      "source": [
        "#i) Imprima o menor e maior valor da lista.\n",
        "min(salarios)"
      ],
      "execution_count": 0,
      "outputs": [
        {
          "output_type": "execute_result",
          "data": {
            "text/plain": [
              "800"
            ]
          },
          "metadata": {
            "tags": []
          },
          "execution_count": 44
        }
      ]
    },
    {
      "metadata": {
        "id": "vVD8_O1WRsvn",
        "colab_type": "code",
        "colab": {}
      },
      "cell_type": "code",
      "source": [
        "#j) Adicione o valor 7000 a lista.\n",
        "salarios.append(7000)"
      ],
      "execution_count": 0,
      "outputs": []
    },
    {
      "metadata": {
        "id": "J0X3lqGjRsvo",
        "colab_type": "code",
        "colab": {},
        "outputId": "ebd49b38-34dd-4498-c0f5-25b4222cfb1c"
      },
      "cell_type": "code",
      "source": [
        "salarios"
      ],
      "execution_count": 0,
      "outputs": [
        {
          "output_type": "execute_result",
          "data": {
            "text/plain": [
              "[900, 1200, 1500, 800, 12587, 10000, 7000]"
            ]
          },
          "metadata": {
            "tags": []
          },
          "execution_count": 46
        }
      ]
    },
    {
      "metadata": {
        "id": "fxv6jFIHRsvs",
        "colab_type": "code",
        "colab": {},
        "outputId": "00a779c2-8428-466d-ddd7-dbd302c1a095"
      },
      "cell_type": "code",
      "source": [
        "#l) Extenda a lista com dois novos elementos utilizando apenas um método.\n",
        "salarios = salarios + [500,1600]\n",
        "salarios"
      ],
      "execution_count": 0,
      "outputs": [
        {
          "output_type": "execute_result",
          "data": {
            "text/plain": [
              "[900, 1200, 1500, 800, 12587, 10000, 7000, 500, 1600]"
            ]
          },
          "metadata": {
            "tags": []
          },
          "execution_count": 47
        }
      ]
    },
    {
      "metadata": {
        "id": "fpv1uFwERsvu",
        "colab_type": "code",
        "colab": {},
        "outputId": "93ed795f-c665-4cca-b73f-7749ee253444"
      },
      "cell_type": "code",
      "source": [
        "#m) Imprima o índice do elemento de valor 800 da lista de salarios.\n",
        "salarios.index(800)"
      ],
      "execution_count": 0,
      "outputs": [
        {
          "output_type": "execute_result",
          "data": {
            "text/plain": [
              "3"
            ]
          },
          "metadata": {
            "tags": []
          },
          "execution_count": 48
        }
      ]
    },
    {
      "metadata": {
        "id": "bum_EdvhRsv0",
        "colab_type": "code",
        "colab": {},
        "outputId": "4cee8399-fc52-4cd0-b071-06dc281896b3"
      },
      "cell_type": "code",
      "source": [
        "#n) Faça uma ordenação dos valores da lista de salarios em ordem crescente e decrescente.\n",
        "salarios.sort()\n",
        "salarios"
      ],
      "execution_count": 0,
      "outputs": [
        {
          "output_type": "execute_result",
          "data": {
            "text/plain": [
              "[500, 800, 900, 1200, 1500, 1600, 7000, 10000, 12587]"
            ]
          },
          "metadata": {
            "tags": []
          },
          "execution_count": 49
        }
      ]
    },
    {
      "metadata": {
        "id": "zGCAzF_mRsv4",
        "colab_type": "code",
        "colab": {},
        "outputId": "25f0edad-512a-4c4d-fdc6-92b6eb25aa95"
      },
      "cell_type": "code",
      "source": [
        "salarios.sort(reverse=True)\n",
        "salarios"
      ],
      "execution_count": 0,
      "outputs": [
        {
          "output_type": "execute_result",
          "data": {
            "text/plain": [
              "[12587, 10000, 7000, 1600, 1500, 1200, 900, 800, 500]"
            ]
          },
          "metadata": {
            "tags": []
          },
          "execution_count": 50
        }
      ]
    },
    {
      "metadata": {
        "id": "NbkQhxdJRsv8",
        "colab_type": "text"
      },
      "cell_type": "markdown",
      "source": [
        "3) Trabalhando com dicionários:\n",
        "- a) Crie um dicionário para armazenar o nome e a idade de pessoas, Exemplo:\n",
        "    pessoas = {'Rodrigo':30, 'Fulana':18}\n",
        "- b) Imprima a idade da pessoa \"Fulana\"\n",
        "- c) Imprima as Chaves do dicionario criado anteriormente.\n",
        "- d) Imprima os valores das chaves do dicionário\n",
        "- e) Busque a chave \"Felipe\" se ela não existe insira esta e o valor 30 (obs: use o método setdefault())"
      ]
    },
    {
      "metadata": {
        "id": "5vNBUe9IRsv9",
        "colab_type": "code",
        "colab": {}
      },
      "cell_type": "code",
      "source": [
        "#a) Crie um dicionário para armazenar o nome e a idade de pessoas, Exemplo: pessoas = {'Rodrigo':30, 'Fulana':18}\n",
        "pessoas = {'Rodrigo':30, 'Fulana':18}"
      ],
      "execution_count": 0,
      "outputs": []
    },
    {
      "metadata": {
        "id": "j59CWASkRsv-",
        "colab_type": "code",
        "colab": {},
        "outputId": "12c139bc-116f-42c2-c1f7-c8de43d05fa2"
      },
      "cell_type": "code",
      "source": [
        "#b) Imprima a idade da pessoa \"Fulana\"\n",
        "pessoas['Fulana']"
      ],
      "execution_count": 0,
      "outputs": [
        {
          "output_type": "execute_result",
          "data": {
            "text/plain": [
              "18"
            ]
          },
          "metadata": {
            "tags": []
          },
          "execution_count": 53
        }
      ]
    },
    {
      "metadata": {
        "id": "R1l6LpowRswC",
        "colab_type": "code",
        "colab": {},
        "outputId": "ff15b141-d34e-4148-d732-6c1046a5cd9e"
      },
      "cell_type": "code",
      "source": [
        "#c) Imprima as Chaves do dicionario criado anteriormente.\n",
        "pessoas.keys()"
      ],
      "execution_count": 0,
      "outputs": [
        {
          "output_type": "execute_result",
          "data": {
            "text/plain": [
              "dict_keys(['Rodrigo', 'Fulana'])"
            ]
          },
          "metadata": {
            "tags": []
          },
          "execution_count": 54
        }
      ]
    },
    {
      "metadata": {
        "id": "J_Mg-FitRswF",
        "colab_type": "code",
        "colab": {},
        "outputId": "54861602-5f85-4b0a-d5a8-d667db655930"
      },
      "cell_type": "code",
      "source": [
        "#d) Imprima os valores das chaves do dicionário\n",
        "pessoas.values()"
      ],
      "execution_count": 0,
      "outputs": [
        {
          "output_type": "execute_result",
          "data": {
            "text/plain": [
              "dict_values([30, 18])"
            ]
          },
          "metadata": {
            "tags": []
          },
          "execution_count": 56
        }
      ]
    },
    {
      "metadata": {
        "id": "haY4-6szRswH",
        "colab_type": "code",
        "colab": {},
        "outputId": "57f46ca4-10cb-4c36-9509-d230d0900077"
      },
      "cell_type": "code",
      "source": [
        "#e) Busque a chave \"Felipe\" se ela não existe insira esta e o valor 30 (obs: use o método setdefault())\n",
        "pessoas.setdefault('Felipe',30)"
      ],
      "execution_count": 0,
      "outputs": [
        {
          "output_type": "execute_result",
          "data": {
            "text/plain": [
              "30"
            ]
          },
          "metadata": {
            "tags": []
          },
          "execution_count": 58
        }
      ]
    },
    {
      "metadata": {
        "id": "McMizkv7RswI",
        "colab_type": "code",
        "colab": {},
        "outputId": "4bb2085a-2e5c-4455-f0ef-03e8dfcbec07"
      },
      "cell_type": "code",
      "source": [
        "pessoas"
      ],
      "execution_count": 0,
      "outputs": [
        {
          "output_type": "execute_result",
          "data": {
            "text/plain": [
              "{'Rodrigo': 30, 'Fulana': 18, 'Felipe': 30}"
            ]
          },
          "metadata": {
            "tags": []
          },
          "execution_count": 59
        }
      ]
    },
    {
      "metadata": {
        "id": "c2EIj3mZRswL",
        "colab_type": "text"
      },
      "cell_type": "markdown",
      "source": [
        "4) Estruturas condicionais:\n",
        "- a) Verifique se 5 é maior que 1, se sim, imprima \"5 é maior que 1\"\n",
        "- b) crie as variávies x1 e y1, defina dois valores quaisquer para as duas variáveis. \n",
        "  Verifique se x1 é maior que y1. Se sim, imprima \"x1 é maior que y1\", senão imprima: \"y1 é maior que x1\"\n",
        "- c) Crie uma lista de valores como [2,3,4,5,6,7] e faça um loop para imprimir todos os valores na tela multiplicados por 2."
      ]
    },
    {
      "metadata": {
        "id": "kMyP6WGURswL",
        "colab_type": "code",
        "colab": {},
        "outputId": "84c60d53-f6ef-4563-d3c4-5f18aba1c4ff"
      },
      "cell_type": "code",
      "source": [
        "#a) Verifique se 5 é maior que 1, se sim, imprima \"5 é maior que 1\"\n",
        "if 5 > 1:\n",
        "    print(\"5 é maior de 1!\")\n"
      ],
      "execution_count": 0,
      "outputs": [
        {
          "output_type": "stream",
          "text": [
            "5 é maior de 1!\n"
          ],
          "name": "stdout"
        }
      ]
    },
    {
      "metadata": {
        "id": "Z5uvLQ6CRswO",
        "colab_type": "code",
        "colab": {},
        "outputId": "440fca97-19ac-460b-9719-8a3e272af186"
      },
      "cell_type": "code",
      "source": [
        "#b) crie as variávies x1 e y1, defina dois valores quaisquer para as duas variáveis. Verifique se x1 é maior que y1.\n",
        "#Se sim, imprima \"x1 é maior que y1\", senão imprima: \"y1 é maior que x1\"\n",
        "x1 = 2\n",
        "y1 = 3\n",
        "\n",
        "if x1 > y1:\n",
        "    print(\"x1 é maior que y1.\")\n",
        "else:\n",
        "    print(\"y1 é maior que x1\")"
      ],
      "execution_count": 0,
      "outputs": [
        {
          "output_type": "stream",
          "text": [
            "y1 é maior que x1\n"
          ],
          "name": "stdout"
        }
      ]
    },
    {
      "metadata": {
        "id": "oukwi95-RswQ",
        "colab_type": "code",
        "colab": {},
        "outputId": "fc74e0e5-ce52-4e24-9588-623611c2cd37"
      },
      "cell_type": "code",
      "source": [
        "#c) Crie uma lista de valores como [2,3,4,5,6,7] e faça um loop para imprimir todos os valores na tela multiplicados por 2.\n",
        "list_1 = [2,3,4,5,6,7]\n",
        "for i in list_1:\n",
        "    print (\"Valor: %s\" %i)\n",
        "    print (i*2)"
      ],
      "execution_count": 0,
      "outputs": [
        {
          "output_type": "stream",
          "text": [
            "Valor: 2\n",
            "4\n",
            "Valor: 3\n",
            "6\n",
            "Valor: 4\n",
            "8\n",
            "Valor: 5\n",
            "10\n",
            "Valor: 6\n",
            "12\n",
            "Valor: 7\n",
            "14\n"
          ],
          "name": "stdout"
        }
      ]
    },
    {
      "metadata": {
        "id": "nhaSVawURswT",
        "colab_type": "text"
      },
      "cell_type": "markdown",
      "source": [
        "- Ao concluir, salve seu notebook e envie suas respostas para **contato@minerandodados.com.br**"
      ]
    }
  ]
}